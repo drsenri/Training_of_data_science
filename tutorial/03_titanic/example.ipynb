{
 "cells": [
  {
   "cell_type": "code",
   "execution_count": 1,
   "metadata": {},
   "outputs": [],
   "source": [
    "import numpy as np\n",
    "import pandas as pd\n",
    "from sklearn.ensemble import RandomForestClassifier"
   ]
  },
  {
   "cell_type": "code",
   "execution_count": 6,
   "metadata": {},
   "outputs": [],
   "source": [
    "def process_titanic(df, type):\n",
    "    '''\n",
    "    Titanicのデータの前処理を行う\n",
    "\n",
    "    @param  df    : input data (Data.Frame)\n",
    "    @param  type  : process type (str, \"train\"/\"test\")\n",
    "    @return id    : passenger ID (list)\n",
    "    @return df_p  : processed data (Data.Frame)\n",
    "    '''\n",
    "\n",
    "    '''\n",
    "    データ型と変換の方法\n",
    "    @PassengerId : int、除外する\n",
    "    @Survived    : int、目的変数として使う\n",
    "    @Pclass      : int、ダミー変数化して使う\n",
    "    @Name        : str、除外する\n",
    "    @Sex         : str、欠損あり、ダミー変数化して使う\n",
    "    @Age         : int、年代別 (10年) でカテゴリ変数化して使う\n",
    "    @SibSp       : int、そのまま使う\n",
    "    @Parch       : int、そのまま使う\n",
    "    @Ticket      : str、除外する\n",
    "    @Fare        : float、0を補完して使う\n",
    "    @Cabin       : 欠損あり (78%)、除外する\n",
    "    @Embarked    : 欠損あり\n",
    "    '''\n",
    "\n",
    "    id_ = df.PassengerId\n",
    "    # remove\n",
    "    df.drop([\"PassengerId\", \"Name\", \"Ticket\", \"Cabin\"], axis=1, inplace=True)\n",
    "\n",
    "    # Age\n",
    "    age = df[[\"Age\"]].fillna(np.nanmedian(df.Age))\n",
    "\n",
    "    # Fare\n",
    "    # 0のところは欠損に変換する\n",
    "    # その後、補完\n",
    "\n",
    "    # Sex (to dummy)\n",
    "    sex_dummy = pd.get_dummies(df[\"Sex\"])\n",
    "\n",
    "    # Embarked\n",
    "    emb = df.Embarked\n",
    "    emb_comp = emb.fillna(\"S\")\n",
    "    emb_dummy = pd.get_dummies(emb_comp, prefix = \"Embarked\")\n",
    "    \n",
    "    # SibSp\n",
    "    \n",
    "    # Parch\n",
    "\n",
    "    # concat\n",
    "    df_p = pd.concat([age, sex_dummy, emb_dummy], axis = 1)\n",
    "\n",
    "    if type == \"train\":\n",
    "        df_p = pd.concat([df_p, df[[\"Survived\"]]], axis = 1)\n",
    "\n",
    "    return id_, df_p"
   ]
  },
  {
   "cell_type": "code",
   "execution_count": 41,
   "metadata": {},
   "outputs": [],
   "source": [
    "def convert_input(df, y_name):\n",
    "    '''\n",
    "    pd.DataFrameからsklearnに入れる形に変換する\n",
    "\n",
    "    @param  df     : input data (pd.Data.Frame)\n",
    "    @param  y_name : column of objective variable (str)\n",
    "    @return X      : feature variable (np.ndarray)\n",
    "    @return y      : objective variable (np.array)\n",
    "    '''\n",
    "    \n",
    "    if y_name is not None:\n",
    "        y = df[[y_name]].values.flatten()\n",
    "        df = df.drop([y_name], axis=1)\n",
    "        X = df.values\n",
    "        return X, y\n",
    "\n",
    "    else:\n",
    "        X = df.values\n",
    "        return X"
   ]
  },
  {
   "cell_type": "markdown",
   "metadata": {},
   "source": [
    "### process train set"
   ]
  },
  {
   "cell_type": "code",
   "execution_count": 13,
   "metadata": {},
   "outputs": [],
   "source": [
    "train = pd.read_csv(\"data/train.csv\")\n",
    "id_train, df_train = process_titanic(train, \"train\")\n",
    "X, y = convert_input(df_train, \"Survived\")"
   ]
  },
  {
   "cell_type": "markdown",
   "metadata": {},
   "source": [
    "### train model"
   ]
  },
  {
   "cell_type": "code",
   "execution_count": 27,
   "metadata": {},
   "outputs": [
    {
     "data": {
      "text/plain": [
       "RandomForestClassifier(bootstrap=True, class_weight=None, criterion='gini',\n",
       "            max_depth=None, max_features='auto', max_leaf_nodes=None,\n",
       "            min_impurity_decrease=0.0, min_impurity_split=None,\n",
       "            min_samples_leaf=1, min_samples_split=2,\n",
       "            min_weight_fraction_leaf=0.0, n_estimators=10, n_jobs=1,\n",
       "            oob_score=False, random_state=None, verbose=0,\n",
       "            warm_start=False)"
      ]
     },
     "execution_count": 27,
     "metadata": {},
     "output_type": "execute_result"
    }
   ],
   "source": [
    "# あとでハイパーパラメータの設定を入れる\n",
    "model = RandomForestClassifier()\n",
    "model.fit(X, y)"
   ]
  },
  {
   "cell_type": "markdown",
   "metadata": {},
   "source": [
    "### predict test set"
   ]
  },
  {
   "cell_type": "code",
   "execution_count": null,
   "metadata": {},
   "outputs": [],
   "source": [
    "test = pd.read_csv(\"data/test.csv\")\n",
    "id_test, df_test = process_titanic(test, \"test\")\n",
    "X_test = convert_input(df_test, None)\n",
    "pred = model.predict(X_test)"
   ]
  },
  {
   "cell_type": "markdown",
   "metadata": {},
   "source": [
    "### save result"
   ]
  },
  {
   "cell_type": "code",
   "execution_count": 42,
   "metadata": {},
   "outputs": [],
   "source": [
    "result = pd.DataFrame({\"PassengerId\": id_test, \"Survived\": pred})\n",
    "result.to_csv(\"result.csv\", index = False)"
   ]
  }
 ],
 "metadata": {
  "kernelspec": {
   "display_name": "Python 3",
   "language": "python",
   "name": "python3"
  },
  "language_info": {
   "codemirror_mode": {
    "name": "ipython",
    "version": 3
   },
   "file_extension": ".py",
   "mimetype": "text/x-python",
   "name": "python",
   "nbconvert_exporter": "python",
   "pygments_lexer": "ipython3",
   "version": "3.6.4"
  }
 },
 "nbformat": 4,
 "nbformat_minor": 2
}
